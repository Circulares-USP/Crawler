{
 "cells": [
  {
   "cell_type": "markdown",
   "id": "fc3ac9cd",
   "metadata": {},
   "source": [
    "# Requisições à API dos Circulares da USP\n",
    "\n",
    "A API dos circulares da USP, disponível em https://uspdigital.usp.br/mobile/servicos/sptrans/posicoes, indica os veículos que estão trafegando no momento na universidade. Tais dados são úteis para o rastreamento dos ônibus e a coleta de dados geral a respeito dos tempos de viagem, por exemplo."
   ]
  },
  {
   "cell_type": "code",
   "execution_count": 46,
   "id": "4b7976f1",
   "metadata": {},
   "outputs": [],
   "source": [
    "import requests\n",
    "import json\n",
    "import datetime\n",
    "import time"
   ]
  },
  {
   "cell_type": "code",
   "execution_count": 59,
   "id": "7621cea0",
   "metadata": {},
   "outputs": [],
   "source": [
    "class Bus:\n",
    "    def __init__(self, bus_id, bus_line, last_register, position):\n",
    "        self.bus_id = bus_id\n",
    "        self.bus_line = bus_line\n",
    "        self.last_register = last_register\n",
    "        self.position = position"
   ]
  },
  {
   "cell_type": "code",
   "execution_count": 73,
   "id": "7028f817",
   "metadata": {},
   "outputs": [],
   "source": [
    "class State:\n",
    "    def __init__(self, url):\n",
    "        self.bus_list = []\n",
    "        self.data_register = datetime.datetime.now()\n",
    "        \n",
    "        dict_api_states = self.request_api_state(url)\n",
    "        self.create_vehicles(dict_api_states)\n",
    "        \n",
    "    def request_api_state(self, url):\n",
    "        \"\"\" A função tem o objetivo de realizar uma requisição a API de endereço url, \n",
    "        retornando um dicionário com o estado atual dos ônibus na universidade \"\"\"\n",
    "        \n",
    "        try:\n",
    "            s_dict = requests.get(url).text \n",
    "            dict = json.loads(s_dict)\n",
    "        except Exception as e:\n",
    "            dict = []\n",
    "            print(e)\n",
    "        \n",
    "        return dict\n",
    "    \n",
    "    def create_vehicles(self, dict):\n",
    "        for bus_line in dict:\n",
    "            for bus in bus_line[\"vs\"]:\n",
    "                bus_position = (bus[\"px\"], bus[\"py\"])\n",
    "                obj_bus = Bus(bus[\"p\"], bus_line[\"l\"], bus[\"ta\"], bus_position)\n",
    "                \n",
    "                self.bus_list.append(obj_bus)\n",
    "    \n",
    "    def get_vehicles(self):\n",
    "        return self.bus_list\n",
    "    \n",
    "    def dump_list(self):\n",
    "        i = 0\n",
    "        str = '{\"data_register\": \"' + self.data_register.strftime(\"%Y-%m-%dT%H:%M:%SZ\") + '\", '\n",
    "        str += '\"buses\": ['\n",
    "        for bus in self.bus_list:\n",
    "            str += json.dumps(vars(bus))\n",
    "            if i < len(self.bus_list) - 1:\n",
    "                str += ','\n",
    "            i += 1\n",
    "            \n",
    "        return str + ']}'"
   ]
  },
  {
   "cell_type": "markdown",
   "id": "1b8cd29a",
   "metadata": {},
   "source": [
    "## Registro de dados de estados\n",
    "\n",
    "Um estado da API, representado por uma lista de ônibus, é bastante informativo no quesito de dados necessários à análise de questões referentes aos veículos. O registro de estado pode, então, ser realizado em um arquivo JSON em um dado período de tempo."
   ]
  },
  {
   "cell_type": "code",
   "execution_count": 68,
   "id": "0f04604a",
   "metadata": {},
   "outputs": [],
   "source": [
    "def data_register(duration_time, x, url):\n",
    "    \"\"\" Dado um tempo duration_time em segundos, registra os dados de estados em um arquivo JSON\n",
    "    a cada x segundos \"\"\"\n",
    "    \n",
    "    now = datetime.datetime.now()\n",
    "    duration = datetime.timedelta(seconds=duration_time)\n",
    "    endtime = now + duration\n",
    "    \n",
    "    while datetime.datetime.now() <= endtime:\n",
    "        curr_state = State(url)\n",
    "        with open('data/states.json', 'a') as f:\n",
    "            f.write(curr_state.dump_list() + '\\n')\n",
    "        time.sleep(x)"
   ]
  },
  {
   "cell_type": "markdown",
   "id": "ef253344",
   "metadata": {},
   "source": [
    "## Leitura de dados escritos\n",
    "\n",
    "A partir do registro de dados realizado pela função data_register, precisamos ler o histórico do arquivo para recuperar a lista de estados. Isso é feito pela função data_read, que, dado o nome do arquivo, retorna a lista que representa o conjunto de todos os estados registrados naquele arquivo."
   ]
  },
  {
   "cell_type": "code",
   "execution_count": 36,
   "id": "8b1d35f7",
   "metadata": {},
   "outputs": [],
   "source": [
    "def data_read(file):\n",
    "    \"\"\" Retorna uma lista de estados dado um arquivo file que os contenha no formato definido na função\n",
    "    data_register \"\"\"\n",
    "    \n",
    "    states = []\n",
    "    with open(file, 'r') as f:\n",
    "        for line in f.readlines():\n",
    "            state = json.loads(line)\n",
    "            states.append(state)\n",
    "    return states"
   ]
  }
 ],
 "metadata": {
  "kernelspec": {
   "display_name": "Python 3 (ipykernel)",
   "language": "python",
   "name": "python3"
  },
  "language_info": {
   "codemirror_mode": {
    "name": "ipython",
    "version": 3
   },
   "file_extension": ".py",
   "mimetype": "text/x-python",
   "name": "python",
   "nbconvert_exporter": "python",
   "pygments_lexer": "ipython3",
   "version": "3.10.6"
  }
 },
 "nbformat": 4,
 "nbformat_minor": 5
}
