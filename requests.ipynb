{
 "cells": [
  {
   "cell_type": "markdown",
   "id": "fcf291bb",
   "metadata": {},
   "source": [
    "# Requisições à API dos Circulares da USP\n",
    "\n",
    "A API dos circulares da USP, disponível em https://uspdigital.usp.br/mobile/servicos/sptrans/posicoes, indica os veículos que estão trafegando no momento na universidade. Tais dados são úteis para o rastreamento dos ônibus e a coleta de dados geral a respeito dos tempos de viagem, por exemplo."
   ]
  },
  {
   "cell_type": "code",
   "execution_count": 1,
   "id": "7b6c3e81",
   "metadata": {},
   "outputs": [],
   "source": [
    "import requests\n",
    "import json"
   ]
  },
  {
   "cell_type": "code",
   "execution_count": 2,
   "id": "673a6fa6",
   "metadata": {},
   "outputs": [],
   "source": [
    "class Bus:\n",
    "    def __init__(self, bus_id, bus_line, last_register, position):\n",
    "        self.bus_id = bus_id\n",
    "        self.bus_line = bus_line\n",
    "        self.last_register = last_register\n",
    "        self.position = position"
   ]
  },
  {
   "cell_type": "code",
   "execution_count": 3,
   "id": "63ec0660",
   "metadata": {},
   "outputs": [],
   "source": [
    "class State:\n",
    "    def __init__(self, url):\n",
    "        self.bus_list = []\n",
    "        \n",
    "        dict_api_states = self.request_api_state(url)\n",
    "        self.create_vehicles(dict_api_states)\n",
    "        \n",
    "    def request_api_state(self, url):\n",
    "        \"\"\" A função tem o objetivo de realizar uma requisição a API de endereço url, \n",
    "        retornando um dicionário com o estado atual dos ônibus na universidade \"\"\"\n",
    "        s_dict = requests.get(url).text \n",
    "        dict = json.loads(s_dict)\n",
    "        return dict\n",
    "    \n",
    "    def create_vehicles(self, dict):\n",
    "        for bus_line in dict:\n",
    "            for bus in bus_line['vs']:\n",
    "                bus_position = (bus['px'], bus['py'])\n",
    "                obj_bus = Bus(bus['p'], bus_line['l'], bus['ta'], bus_position)\n",
    "                \n",
    "                self.bus_list.append(obj_bus)\n",
    "    \n",
    "    def get_vehicles(self):\n",
    "        return self.bus_list"
   ]
  }
 ],
 "metadata": {
  "kernelspec": {
   "display_name": "Python 3 (ipykernel)",
   "language": "python",
   "name": "python3"
  },
  "language_info": {
   "codemirror_mode": {
    "name": "ipython",
    "version": 3
   },
   "file_extension": ".py",
   "mimetype": "text/x-python",
   "name": "python",
   "nbconvert_exporter": "python",
   "pygments_lexer": "ipython3",
   "version": "3.10.6"
  }
 },
 "nbformat": 4,
 "nbformat_minor": 5
}
